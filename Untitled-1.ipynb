{
 "cells": [
  {
   "cell_type": "code",
   "execution_count": null,
   "metadata": {},
   "outputs": [],
   "source": [
    "import os\n",
    "\n",
    "import openai\n",
    "print(openai.__version__)\n",
    "\n",
    "\n",
    "\n",
    "openai.api_key  = os.getenv('sk-None-e1vEYJqk2L77XeUp3sFwT3BlbkFJu2zAu1FQD3CqaujKl785')"
   ]
  }
 ],
 "metadata": {
  "language_info": {
   "name": "python"
  }
 },
 "nbformat": 4,
 "nbformat_minor": 2
}
